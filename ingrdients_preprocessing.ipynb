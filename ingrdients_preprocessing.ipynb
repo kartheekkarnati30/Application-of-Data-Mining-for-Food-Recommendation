{
 "cells": [
  {
   "cell_type": "code",
   "execution_count": 14,
   "metadata": {},
   "outputs": [
    {
     "data": {
      "text/plain": [
       "'C:\\\\Users\\\\karth\\\\NLP Assignments'"
      ]
     },
     "execution_count": 14,
     "metadata": {},
     "output_type": "execute_result"
    }
   ],
   "source": [
    "import os\n",
    "\n",
    "os.getcwd()"
   ]
  },
  {
   "cell_type": "code",
   "execution_count": 19,
   "metadata": {},
   "outputs": [],
   "source": [
    "toRemove = set(['& half', '& half\\n'])  # list of ingredients to remove\n",
    "\n",
    "def cleanIngredients():\n",
    "    filePath = os.getcwd() + '\\\\Recipes\\\\ingredients_simplified_Recipes5k.txt'\n",
    "    clean = []\n",
    "\n",
    "    with open(filePath) as dataset:\n",
    "        line = dataset.readline().lower().strip()\n",
    "        \n",
    "        while line:\n",
    "\n",
    "            ingredients = ','.join(list(set([i.strip() for i in line.split(',') if i not in toRemove])))\n",
    "            \n",
    "            if '\\\\u' in ingredients:\n",
    "                ingredients = ingredients.replace('\\\\u00ae', '').replace('\\\\u00e2', 'a').replace('\\\\u00e8', 'e').replace('\\\\u00e9', 'e').replace('\\\\u00ee', 'i').replace('\\\\u00fa', 'u').replace('\\\\u00fc', 'u').replace('\\\\u2122', '')\n",
    "                \n",
    "            clean.append(ingredients)\n",
    "            for i in clean:\n",
    "                i = set(i)\n",
    "\n",
    "            line = dataset.readline().lower().strip()\n",
    "\n",
    "    cleanFile = open(os.getcwd() + '\\\\Recipes\\\\cleanings.txt', 'w+')\n",
    "\n",
    "    for i in clean:\n",
    "        cleanFile.write(i + '\\n')\n",
    "\n",
    "    cleanFile.close()"
   ]
  },
  {
   "cell_type": "code",
   "execution_count": 20,
   "metadata": {},
   "outputs": [],
   "source": [
    "cleanIngredients()"
   ]
  }
 ],
 "metadata": {
  "kernelspec": {
   "display_name": "Python 3",
   "language": "python",
   "name": "python3"
  },
  "language_info": {
   "codemirror_mode": {
    "name": "ipython",
    "version": 3
   },
   "file_extension": ".py",
   "mimetype": "text/x-python",
   "name": "python",
   "nbconvert_exporter": "python",
   "pygments_lexer": "ipython3",
   "version": "3.7.4"
  }
 },
 "nbformat": 4,
 "nbformat_minor": 2
}
