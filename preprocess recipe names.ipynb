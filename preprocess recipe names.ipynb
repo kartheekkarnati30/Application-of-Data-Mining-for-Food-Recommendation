{
 "cells": [
  {
   "cell_type": "code",
   "execution_count": 1,
   "metadata": {},
   "outputs": [
    {
     "data": {
      "text/plain": [
       "'C:\\\\Users\\\\karth'"
      ]
     },
     "execution_count": 1,
     "metadata": {},
     "output_type": "execute_result"
    }
   ],
   "source": [
    "import os\n",
    "\n",
    "os.getcwd()"
   ]
  },
  {
   "cell_type": "code",
   "execution_count": 7,
   "metadata": {},
   "outputs": [],
   "source": [
    "#preprocessing recipe names\n",
    "filePath = os.getcwd() + '\\\\NLP Assignments\\\\Recipes\\\\mappings.txt'\n",
    "clean_recipe_names = []\n",
    "with open(filePath) as dataset:\n",
    "    \n",
    "    line = dataset.readline().lower().strip()\n",
    "        \n",
    "    while line:\n",
    "        strIn = line\n",
    "        searchStr = '/'\n",
    "        new_str = strIn[:strIn.find(searchStr)]\n",
    "        clean_recipe_names.append(new_str)\n",
    "            \n",
    "        line = dataset.readline().lower().strip()\n",
    "            \n",
    "cleanFile = open(os.getcwd() + '\\\\NLP Assignments\\\\Recipes\\\\clean_recipe_names.txt', 'w+')\n",
    "for i in clean_recipe_names:\n",
    "    cleanFile.write(i + '\\n')\n",
    "    \n",
    "        \n",
    "\n",
    "cleanFile.close()\n"
   ]
  }
 ],
 "metadata": {
  "kernelspec": {
   "display_name": "Python 3",
   "language": "python",
   "name": "python3"
  },
  "language_info": {
   "codemirror_mode": {
    "name": "ipython",
    "version": 3
   },
   "file_extension": ".py",
   "mimetype": "text/x-python",
   "name": "python",
   "nbconvert_exporter": "python",
   "pygments_lexer": "ipython3",
   "version": "3.7.4"
  }
 },
 "nbformat": 4,
 "nbformat_minor": 2
}
